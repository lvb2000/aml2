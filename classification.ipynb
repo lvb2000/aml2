{
 "cells": [
  {
   "cell_type": "code",
   "execution_count": 1,
   "id": "5c01e92d",
   "metadata": {},
   "outputs": [],
   "source": [
    "import numpy as np\n",
    "import pandas as pd\n",
    "import tqdm\n",
    "import matplotlib.pyplot as plt\n",
    "from matplotlib import pyplot\n",
    "from sklearn.preprocessing import normalize\n",
    "from sklearn.svm import SVC\n",
    "from sklearn.model_selection import train_test_split\n",
    "from sklearn.model_selection import cross_val_score\n",
    "from sklearn.model_selection import RepeatedStratifiedKFold\n",
    "from sklearn.ensemble import BaggingClassifier\n",
    "from sklearn.tree import DecisionTreeClassifier\n",
    "from imblearn.over_sampling import SMOTE"
   ]
  },
  {
   "cell_type": "code",
   "execution_count": 3,
   "id": "7373b159",
   "metadata": {},
   "outputs": [],
   "source": [
    "X_train = pd.read_csv(\"features_ata.csv\").drop(columns='Unnamed: 0')\n",
    "labels = pd.read_csv(\"y_train.csv\").drop(columns='id')\n",
    "X_test =  pd.read_csv(\"test_features_ata.csv\").drop(columns='Unnamed: 0')\n",
    "Y_train = labels.to_numpy()\n",
    "Y_train = Y_train.reshape(-1)"
   ]
  },
  {
   "cell_type": "code",
   "execution_count": 4,
   "id": "542861d6",
   "metadata": {},
   "outputs": [],
   "source": [
    "def make_submission(prediction_, name='submission.csv'):\n",
    "    dt = pd.DataFrame(data=prediction_, columns=['y'])\n",
    "    dt['id'] = dt.index\n",
    "    dt = dt[['id', 'y']]\n",
    "    dt.to_csv(name, header=True, index=False)"
   ]
  },
  {
   "cell_type": "markdown",
   "id": "3057ee88",
   "metadata": {},
   "source": [
    "# Normalization"
   ]
  },
  {
   "cell_type": "code",
   "execution_count": 5,
   "id": "7a42d253",
   "metadata": {},
   "outputs": [],
   "source": [
    "# normalization\n",
    "X_train = normalize(X_train, axis=0)\n",
    "X_test = normalize(X_test, axis = 0)"
   ]
  },
  {
   "cell_type": "markdown",
   "id": "465d07ef",
   "metadata": {},
   "source": [
    "# performe label balancing\n",
    "- source: https://towardsdatascience.com/machine-learning-target-feature-label-imbalance-problem-and-solutions-98c5ae89ad0"
   ]
  },
  {
   "cell_type": "code",
   "execution_count": 6,
   "id": "36a902ca",
   "metadata": {},
   "outputs": [
    {
     "name": "stdout",
     "output_type": "stream",
     "text": [
      " 59.2 % of samples belong to class 0\n",
      " 8.7 % of samples belong to class 1\n",
      " 28.8 % of samples belong to class 2\n",
      " 3.3 % of samples belong to class 3\n"
     ]
    }
   ],
   "source": [
    "#print relative size of classes\n",
    "tot = len(labels)\n",
    "for i in range(4):\n",
    "    percentage = round(100*np.array(labels==i).sum()/tot ,1)\n",
    "    print(f\" {percentage} % of samples belong to class {i}\")"
   ]
  },
  {
   "cell_type": "code",
   "execution_count": 7,
   "id": "60c3f763",
   "metadata": {},
   "outputs": [],
   "source": [
    "smote = SMOTE(random_state = 14)\n",
    "X_train_balanced, Y_train_balanced = smote.fit_sample(X_train, Y_train)"
   ]
  },
  {
   "cell_type": "code",
   "execution_count": 9,
   "id": "aa28ab90",
   "metadata": {},
   "outputs": [
    {
     "name": "stdout",
     "output_type": "stream",
     "text": [
      "for balanced data we get the following frequency of labels\n",
      " 25.0 % of samples belong to class 0\n",
      " 25.0 % of samples belong to class 1\n",
      " 25.0 % of samples belong to class 2\n",
      " 25.0 % of samples belong to class 3\n"
     ]
    }
   ],
   "source": [
    "#again print relative size of classes for balanced data\n",
    "print(\"for balanced data we get the following frequency of labels\")\n",
    "tot = len(Y_train_balanced)\n",
    "for i in range(4):\n",
    "    percentage = round(100*np.array(Y_train_balanced==i).sum()/tot ,1)\n",
    "    print(f\" {percentage} % of samples belong to class {i}\")"
   ]
  },
  {
   "cell_type": "markdown",
   "id": "558315bc",
   "metadata": {},
   "source": [
    "# Explore different models\n",
    "---"
   ]
  },
  {
   "cell_type": "markdown",
   "id": "a52269bc",
   "metadata": {},
   "source": [
    "## train-test split"
   ]
  },
  {
   "cell_type": "code",
   "execution_count": 26,
   "id": "c10fdda8",
   "metadata": {},
   "outputs": [],
   "source": [
    "# train-test split\n",
    "x_train, x_test, y_train, y_test = train_test_split(X_train_balanced, Y_train_balanced, test_size=0.2, random_state=42)"
   ]
  },
  {
   "cell_type": "markdown",
   "id": "d737a324",
   "metadata": {},
   "source": [
    "# Baseline model (rbf-kernelized SVM)"
   ]
  },
  {
   "cell_type": "code",
   "execution_count": 29,
   "id": "072285a4",
   "metadata": {},
   "outputs": [
    {
     "data": {
      "text/plain": [
       "0.8164191419141914"
      ]
     },
     "execution_count": 29,
     "metadata": {},
     "output_type": "execute_result"
    }
   ],
   "source": [
    "# outlier detection \n",
    "svc = SVC(class_weight='balanced')\n",
    "svc.fit(x_train, y_train)\n",
    "svc.score(x_test, y_test)\n",
    "#pred = svc.predict(X_test)\n",
    "#make_submission(pred)"
   ]
  },
  {
   "cell_type": "markdown",
   "id": "ed22ad1f",
   "metadata": {},
   "source": [
    "# EXPLORE BAGGING ALGORITHMS\n",
    "---\n",
    "- source: https://machinelearningmastery.com/bagging-ensemble-with-python/"
   ]
  },
  {
   "cell_type": "markdown",
   "id": "aa5f2936",
   "metadata": {},
   "source": [
    "## Simple bagged decision tree classifier"
   ]
  },
  {
   "cell_type": "code",
   "execution_count": 25,
   "id": "71f0b06d",
   "metadata": {},
   "outputs": [
    {
     "name": "stdout",
     "output_type": "stream",
     "text": [
      "Accuracy: 0.888 (0.009)\n"
     ]
    }
   ],
   "source": [
    "# bagging svm\n",
    "# define the model\n",
    "clf = DecisionTreeClassifier(random_state=1)\n",
    "model = BaggingClassifier(base_estimator=clf)\n",
    "# evaluate the model\n",
    "cv = RepeatedStratifiedKFold(n_splits=10, n_repeats=3, random_state=1)\n",
    "n_scores = cross_val_score(model, X_train_balanced, Y_train_balanced, scoring='accuracy', cv=cv, n_jobs=-1, error_score='raise')\n",
    "# report performance\n",
    "print('Accuracy: %.3f (%.3f)' % (np.mean(n_scores), np.std(n_scores)))"
   ]
  },
  {
   "cell_type": "markdown",
   "id": "115ebeff",
   "metadata": {},
   "source": [
    "# Explore Hyperparameters"
   ]
  },
  {
   "cell_type": "markdown",
   "id": "1ef5a6a3",
   "metadata": {},
   "source": [
    "## explore number of trees"
   ]
  },
  {
   "cell_type": "code",
   "execution_count": null,
   "id": "b3641a24",
   "metadata": {},
   "outputs": [],
   "source": [
    "# get a list of models to evaluate\n",
    "def get_models():\n",
    "    models = dict()\n",
    "    # define number of trees to consider\n",
    "    n_trees = [10, 50, 100, 500, 1000]\n",
    "    for n in n_trees:\n",
    "        models[str(n)] = BaggingClassifier(n_estimators=n)\n",
    "    return models\n",
    "\n",
    "# evaluate a given model using cross-validation\n",
    "def evaluate_model(model, X, y):\n",
    "    # define the evaluation procedure\n",
    "    cv = RepeatedStratifiedKFold(n_splits=10, n_repeats=3, random_state=1)\n",
    "    # evaluate the model and collect the results\n",
    "    scores = cross_val_score(model, X_train, Y_train, scoring='accuracy', cv=cv, n_jobs=-1)\n",
    "    return scores\n",
    " \n",
    "# get the models to evaluate\n",
    "models = get_models()\n",
    "# evaluate the models and store results\n",
    "results, names = list(), list()\n",
    "for name, model in models.items():\n",
    "    # evaluate the model\n",
    "    scores = evaluate_model(model, X_train, Y_train)\n",
    "    # store the results\n",
    "    results.append(scores)\n",
    "    names.append(name)\n",
    "    # summarize the performance along the way\n",
    "    print('>%s %.3f (%.3f)' % (name, np.mean(scores), np.std(scores)))\n",
    "# plot model performance for comparison\n",
    "pyplot.boxplot(results, labels=names, showmeans=True)\n",
    "pyplot.show()"
   ]
  },
  {
   "cell_type": "markdown",
   "id": "e8b577b9",
   "metadata": {},
   "source": [
    "## explore number of samples in bootstrap"
   ]
  },
  {
   "cell_type": "code",
   "execution_count": null,
   "id": "c51c0471",
   "metadata": {},
   "outputs": [],
   "source": [
    "# get a list of models to evaluate\n",
    "def get_models():\n",
    "    models = dict()\n",
    "    # explore ratios from 10% to 100% in 10% increments\n",
    "    for i in np.arange(0.1, 1.1, 0.1):\n",
    "        key = '%.1f' % i\n",
    "        models[key] = BaggingClassifier(max_samples=i, n_estimators = 100)\n",
    "    return models\n",
    " \n",
    "# evaluate a given model using cross-validation\n",
    "def evaluate_model(model, X, y):\n",
    "    # define the evaluation procedure\n",
    "    cv = RepeatedStratifiedKFold(n_splits=10, n_repeats=3, random_state=1)\n",
    "    # evaluate the model and collect the results\n",
    "    scores = cross_val_score(model, X, y, scoring='accuracy', cv=cv, n_jobs=-1)\n",
    "    return scores\n",
    " \n",
    "# get the models to evaluate\n",
    "models = get_models()\n",
    "# evaluate the models and store results\n",
    "results, names = list(), list()\n",
    "for name, model in models.items():\n",
    "    # evaluate the model\n",
    "    scores = evaluate_model(model, X_train, Y_train)\n",
    "    # store the results\n",
    "    results.append(scores)\n",
    "    names.append(name)\n",
    "    # summarize the performance along the way\n",
    "    print('>%s %.3f (%.3f)' % (name, np.mean(scores), np.std(scores)))\n",
    "# plot model performance for comparison\n",
    "pyplot.boxplot(results, labels=names, showmeans=True)\n",
    "pyplot.show()"
   ]
  },
  {
   "cell_type": "markdown",
   "id": "38542a43",
   "metadata": {},
   "source": [
    "## Train a model with the hyperparameter choosen with the knowledge from the above inspections"
   ]
  },
  {
   "cell_type": "code",
   "execution_count": 31,
   "id": "e0315ad3",
   "metadata": {},
   "outputs": [
    {
     "name": "stdout",
     "output_type": "stream",
     "text": [
      "Accuracy: 0.789 (0.016)\n"
     ]
    }
   ],
   "source": [
    "# bagging svm\n",
    "# define the model\n",
    "clf = DecisionTreeClassifier(random_state=1)\n",
    "model = BaggingClassifier(base_estimator=clf, n_estimators=50, max_samples=0.5)\n",
    "# evaluate the model\n",
    "cv = RepeatedStratifiedKFold(n_splits=10, n_repeats=3, random_state=1)\n",
    "n_scores = cross_val_score(model, X_train, Y_train, scoring='f1_macro', cv=cv, n_jobs=-1, error_score='raise')\n",
    "# report performance\n",
    "print('F_macro score: %.3f (%.3f)' % (np.mean(n_scores), np.std(n_scores)))"
   ]
  },
  {
   "cell_type": "markdown",
   "id": "d7c2c7e4",
   "metadata": {},
   "source": [
    "### same with balanced labels"
   ]
  },
  {
   "cell_type": "code",
   "execution_count": 37,
   "id": "f1e89c74",
   "metadata": {},
   "outputs": [
    {
     "name": "stdout",
     "output_type": "stream",
     "text": [
      "Accuracy: 0.889 (0.010)\n"
     ]
    }
   ],
   "source": [
    "# bagging svm\n",
    "# define the model\n",
    "clf = DecisionTreeClassifier(random_state=1)\n",
    "model = BaggingClassifier(base_estimator=clf, n_estimators=50, max_samples=0.5)\n",
    "# evaluate the model\n",
    "cv = RepeatedStratifiedKFold(n_splits=10, n_repeats=3, random_state=1)\n",
    "n_scores = cross_val_score(model, X_train_balanced, Y_train_balanced, scoring='f1_macro', cv=cv, n_jobs=-1, error_score='raise')\n",
    "# report performance\n",
    "print('F1_macro score: %.3f (%.3f)' % (np.mean(n_scores), np.std(n_scores)))"
   ]
  },
  {
   "cell_type": "markdown",
   "id": "96970bad",
   "metadata": {},
   "source": [
    "# Train model on whole dataset"
   ]
  },
  {
   "cell_type": "code",
   "execution_count": 41,
   "id": "45dd0517",
   "metadata": {},
   "outputs": [],
   "source": [
    "# define the model\n",
    "clf = DecisionTreeClassifier(random_state=1)\n",
    "model = BaggingClassifier(base_estimator=clf, n_estimators=50, max_samples=0.5)\n",
    "# fit the model on the whole dataset\n",
    "model.fit(X_train, Y_train)\n",
    "# make a single prediction\n",
    "prediction = model.predict(X_test)"
   ]
  },
  {
   "cell_type": "code",
   "execution_count": 33,
   "id": "a86a00e9",
   "metadata": {},
   "outputs": [],
   "source": [
    "# make a submission\n",
    "make_submission(prediction)"
   ]
  }
 ],
 "metadata": {
  "kernelspec": {
   "display_name": "Python 3.9 (tensorflow)",
   "language": "python",
   "name": "tensorflow"
  },
  "language_info": {
   "codemirror_mode": {
    "name": "ipython",
    "version": 3
   },
   "file_extension": ".py",
   "mimetype": "text/x-python",
   "name": "python",
   "nbconvert_exporter": "python",
   "pygments_lexer": "ipython3",
   "version": "3.9.15"
  }
 },
 "nbformat": 4,
 "nbformat_minor": 5
}
